{
  "nbformat": 4,
  "nbformat_minor": 0,
  "metadata": {
    "colab": {
      "provenance": []
    },
    "kernelspec": {
      "name": "python3",
      "display_name": "Python 3"
    },
    "language_info": {
      "name": "python"
    }
  },
  "cells": [
    {
      "cell_type": "code",
      "execution_count": 1,
      "metadata": {
        "colab": {
          "base_uri": "https://localhost:8080/"
        },
        "id": "UtDZ1wpH-_1i",
        "outputId": "f4d228a7-da76-452e-ddd5-5be04359d936"
      },
      "outputs": [
        {
          "output_type": "stream",
          "name": "stderr",
          "text": [
            "[nltk_data] Downloading package punkt to /root/nltk_data...\n",
            "[nltk_data]   Unzipping tokenizers/punkt.zip.\n",
            "[nltk_data] Downloading package stopwords to /root/nltk_data...\n",
            "[nltk_data]   Unzipping corpora/stopwords.zip.\n",
            "[nltk_data] Downloading package wordnet to /root/nltk_data...\n"
          ]
        },
        {
          "output_type": "execute_result",
          "data": {
            "text/plain": [
              "True"
            ]
          },
          "metadata": {},
          "execution_count": 1
        }
      ],
      "source": [
        "import nltk\n",
        "nltk.download(\"punkt\")\n",
        "nltk.download('stopwords')\n",
        "nltk.download('wordnet')"
      ]
    },
    {
      "cell_type": "code",
      "source": [
        "sample_text= '''A child or baby’s identity is unknown may be referred to as Baby Doe. A notorious case in Kavya City,\n",
        "Missouri, referred to the baby victim as Preclly Doe. Other unidentified female’s murder victims are\n",
        "Cali Doe and Princess Doe paid with $ or others. Additional persons may be called James Doe or\n",
        "Juoody Doe, etc. However, to avoid possible confusion, if two anonymous or unknown parties are\n",
        "cited in a specific case or action, the surnames Doe and Roe may be used simultaneously; for\n",
        "example, “from John Doe to Jane Roe\". Other early alternatives such as John Stiles and Richard Miles\n",
        "are now rarely used, and Mary Major has been used in some American federal cases!This sample is\n",
        "just anonymous,for analysis. It’s not a valid context :just an example.''';"
      ],
      "metadata": {
        "id": "zbJIFKSPAkkh"
      },
      "execution_count": 2,
      "outputs": []
    },
    {
      "cell_type": "code",
      "source": [
        "print(sample_text)"
      ],
      "metadata": {
        "colab": {
          "base_uri": "https://localhost:8080/"
        },
        "id": "ZeO5sURvAkuy",
        "outputId": "b91fbca8-9e61-423b-cc39-01c7f9127be5"
      },
      "execution_count": 3,
      "outputs": [
        {
          "output_type": "stream",
          "name": "stdout",
          "text": [
            "A child or baby’s identity is unknown may be referred to as Baby Doe. A notorious case in Kavya City,\n",
            "Missouri, referred to the baby victim as Preclly Doe. Other unidentified female’s murder victims are\n",
            "Cali Doe and Princess Doe paid with $ or others. Additional persons may be called James Doe or\n",
            "Juoody Doe, etc. However, to avoid possible confusion, if two anonymous or unknown parties are\n",
            "cited in a specific case or action, the surnames Doe and Roe may be used simultaneously; for\n",
            "example, “from John Doe to Jane Roe\". Other early alternatives such as John Stiles and Richard Miles\n",
            "are now rarely used, and Mary Major has been used in some American federal cases!This sample is\n",
            "just anonymous,for analysis. It’s not a valid context :just an example.\n"
          ]
        }
      ]
    },
    {
      "cell_type": "markdown",
      "source": [
        "> Q1.Display all punctuation symbols?"
      ],
      "metadata": {
        "id": "k73sOvs4BLuc"
      }
    },
    {
      "cell_type": "code",
      "source": [
        "import string;\n",
        "\n",
        "all_punc= set(string.punctuation)\n",
        "print(all_punc, \"\\n\")\n",
        "\n",
        "my_punc=[]\n",
        "for symbol in all_punc:\n",
        "  if(symbol in sample_text):\n",
        "    my_punc.append(symbol)\n",
        "print(\"All punctuation symbols in given text are: \",my_punc)"
      ],
      "metadata": {
        "colab": {
          "base_uri": "https://localhost:8080/"
        },
        "id": "swv0zGECAk42",
        "outputId": "217ff760-1f53-413e-852e-b6d8f25ccd51"
      },
      "execution_count": 4,
      "outputs": [
        {
          "output_type": "stream",
          "name": "stdout",
          "text": [
            "{'&', '_', '!', '.', '`', '~', '+', ',', '$', '(', '%', '/', ';', '\\\\', '-', \"'\", ']', '}', ')', '{', '>', '#', '@', '|', '^', '*', '=', ':', '?', '\"', '[', '<'} \n",
            "\n",
            "All punctuation symbols in given text are:  ['!', '.', ',', '$', ';', ':', '\"']\n"
          ]
        }
      ]
    },
    {
      "cell_type": "markdown",
      "source": [
        ">Q2. Display the stopwords supported by English language?"
      ],
      "metadata": {
        "id": "xIXgMG7fF2Ac"
      }
    },
    {
      "cell_type": "code",
      "source": [
        "from nltk.corpus import stopwords as sw\n",
        "\n",
        "sw_eng= sw.words('english')\n",
        "unique_sw_eng= set(sw_eng)\n",
        "print(\"Unique Stopwords in english language are: \", unique_sw_eng, '\\n')"
      ],
      "metadata": {
        "colab": {
          "base_uri": "https://localhost:8080/"
        },
        "id": "qnQ7mGT0BBV_",
        "outputId": "b74e2c9f-f427-474a-d23d-b0c74783dc1b"
      },
      "execution_count": 5,
      "outputs": [
        {
          "output_type": "stream",
          "name": "stdout",
          "text": [
            "Unique Stopwords in english language are:  {'by', 'd', 'an', 'doing', 'own', 'am', 'until', 'm', 'further', 'be', \"needn't\", 'because', 'that', \"should've\", 'about', 'hasn', \"mustn't\", \"didn't\", 'herself', 'yours', 'before', 'some', 'couldn', \"couldn't\", 'him', 'other', 'or', 'than', 'i', 'theirs', 'very', 'yourselves', 'no', 'yourself', 'had', 'and', 'it', 'up', 'being', 'on', 'hadn', 'there', 'her', 'does', 'have', 'when', 'didn', 'with', 'mightn', 'won', 'what', \"hadn't\", 'its', 'but', 'for', 'wouldn', 'below', 'such', 'those', 'then', 'most', 'his', 're', \"mightn't\", 'during', 'do', 'where', 'were', 'nor', 'been', \"you've\", 'me', 'ma', 'has', 'not', 'themselves', 'the', 'he', \"that'll\", 'a', 'again', \"don't\", 'are', 'shan', 'above', \"she's\", 'their', 'myself', 'both', \"wouldn't\", 'few', 'needn', \"shan't\", 'down', 'here', 'only', 'ours', 'same', 'how', 'who', 'll', \"you'll\", 'my', 'all', \"aren't\", 'which', 'now', 'himself', 'why', 'through', 'as', 'will', 'once', 'so', 'ourselves', 'after', 'from', 'ain', \"doesn't\", 'whom', 'haven', \"weren't\", 'did', 'to', 'wasn', \"you'd\", 'should', 't', 'she', 'of', 'this', 'out', 'over', 'our', 's', 'just', 'between', 'hers', 'doesn', \"isn't\", 'isn', 'under', 'while', \"won't\", 'we', 'you', \"haven't\", \"wasn't\", 'against', 'is', 'off', 'each', 'mustn', 'they', 'these', 'don', 'in', 'any', 'aren', 'more', 'weren', 'itself', 'having', \"you're\", \"it's\", 've', 'o', 'too', 'them', 'was', \"hasn't\", \"shouldn't\", 'at', 'your', 'if', 'y', 'can', 'into', 'shouldn'} \n",
            "\n"
          ]
        }
      ]
    },
    {
      "cell_type": "markdown",
      "source": [
        ">Q3.Perform all possible tokenization upon the given sample text & display the output."
      ],
      "metadata": {
        "id": "GTpkYIp_HxdP"
      }
    },
    {
      "cell_type": "code",
      "source": [
        "from nltk.tokenize import word_tokenize, sent_tokenize\n",
        "\n",
        "sentences= sent_tokenize(sample_text)\n",
        "print('Sentence are :', sentences)\n",
        "print('length of all sentence is :', len(sentences))\n",
        "\n",
        "words= word_tokenize(sample_text)\n",
        "print('Words are :',words)\n",
        "print('length of words is :',len(words))"
      ],
      "metadata": {
        "colab": {
          "base_uri": "https://localhost:8080/"
        },
        "id": "2gLQNKPfBBjY",
        "outputId": "eb4a506e-abd7-4e8d-a792-6ce7514136ef"
      },
      "execution_count": 6,
      "outputs": [
        {
          "output_type": "stream",
          "name": "stdout",
          "text": [
            "Sentence are : ['A child or baby’s identity is unknown may be referred to as Baby Doe.', 'A notorious case in Kavya City,\\nMissouri, referred to the baby victim as Preclly Doe.', 'Other unidentified female’s murder victims are\\nCali Doe and Princess Doe paid with $ or others.', 'Additional persons may be called James Doe or\\nJuoody Doe, etc.', 'However, to avoid possible confusion, if two anonymous or unknown parties are\\ncited in a specific case or action, the surnames Doe and Roe may be used simultaneously; for\\nexample, “from John Doe to Jane Roe\".', 'Other early alternatives such as John Stiles and Richard Miles\\nare now rarely used, and Mary Major has been used in some American federal cases!This sample is\\njust anonymous,for analysis.', 'It’s not a valid context :just an example.']\n",
            "length of all sentence is : 7\n",
            "Words are : ['A', 'child', 'or', 'baby', '’', 's', 'identity', 'is', 'unknown', 'may', 'be', 'referred', 'to', 'as', 'Baby', 'Doe', '.', 'A', 'notorious', 'case', 'in', 'Kavya', 'City', ',', 'Missouri', ',', 'referred', 'to', 'the', 'baby', 'victim', 'as', 'Preclly', 'Doe', '.', 'Other', 'unidentified', 'female', '’', 's', 'murder', 'victims', 'are', 'Cali', 'Doe', 'and', 'Princess', 'Doe', 'paid', 'with', '$', 'or', 'others', '.', 'Additional', 'persons', 'may', 'be', 'called', 'James', 'Doe', 'or', 'Juoody', 'Doe', ',', 'etc', '.', 'However', ',', 'to', 'avoid', 'possible', 'confusion', ',', 'if', 'two', 'anonymous', 'or', 'unknown', 'parties', 'are', 'cited', 'in', 'a', 'specific', 'case', 'or', 'action', ',', 'the', 'surnames', 'Doe', 'and', 'Roe', 'may', 'be', 'used', 'simultaneously', ';', 'for', 'example', ',', '“', 'from', 'John', 'Doe', 'to', 'Jane', 'Roe', \"''\", '.', 'Other', 'early', 'alternatives', 'such', 'as', 'John', 'Stiles', 'and', 'Richard', 'Miles', 'are', 'now', 'rarely', 'used', ',', 'and', 'Mary', 'Major', 'has', 'been', 'used', 'in', 'some', 'American', 'federal', 'cases', '!', 'This', 'sample', 'is', 'just', 'anonymous', ',', 'for', 'analysis', '.', 'It', '’', 's', 'not', 'a', 'valid', 'context', ':', 'just', 'an', 'example', '.']\n",
            "length of words is : 159\n"
          ]
        }
      ]
    },
    {
      "cell_type": "markdown",
      "source": [
        ">Q4. Remove the stopwords (if any ) in the given sample text."
      ],
      "metadata": {
        "id": "wGMMQBE8JSLR"
      }
    },
    {
      "cell_type": "code",
      "source": [
        "my_stopwords= []\n",
        "for sw in unique_sw_eng:\n",
        "  if(sw in sample_text):\n",
        "    my_stopwords.append(sw)\n",
        "print(\"my stopwords in given text are: \", my_stopwords, '\\n')"
      ],
      "metadata": {
        "colab": {
          "base_uri": "https://localhost:8080/"
        },
        "id": "NrLQ5WAIBBrs",
        "outputId": "80f5db1d-f881-4b6c-ec2c-42bd7d79d037"
      },
      "execution_count": 7,
      "outputs": [
        {
          "output_type": "stream",
          "name": "stdout",
          "text": [
            "my stopwords in given text are:  ['by', 'd', 'an', 'own', 'am', 'm', 'be', 'some', 'other', 'or', 'i', 'no', 'and', 'it', 'on', 'her', 'with', 'for', 'such', 'his', 're', 'been', 'me', 'ma', 'has', 'not', 'the', 'he', 'a', 'are', 'll', 'all', 'now', 'as', 'so', 'from', 'to', 't', 'our', 's', 'just', 'hers', 'we', 'is', 'in', 've', 'o', 'at', 'if', 'y', 'can'] \n",
            "\n"
          ]
        }
      ]
    },
    {
      "cell_type": "markdown",
      "source": [
        ">Q5 .Find the most common 5 words in the above sample text & plot it."
      ],
      "metadata": {
        "id": "1zILrtkDJkNT"
      }
    },
    {
      "cell_type": "code",
      "source": [
        "from nltk.probability import FreqDist\n",
        "\n",
        "freqDist= FreqDist(words)\n",
        "print(freqDist)\n",
        "print(\"Most common 5 words in the above sample text: \", freqDist.most_common(5))"
      ],
      "metadata": {
        "colab": {
          "base_uri": "https://localhost:8080/"
        },
        "id": "I6tZRTNZBByz",
        "outputId": "d16deb9a-ba61-4eb6-cfa1-be35ca8544ee"
      },
      "execution_count": 8,
      "outputs": [
        {
          "output_type": "stream",
          "name": "stdout",
          "text": [
            "<FreqDist with 97 samples and 159 outcomes>\n",
            "Most common 5 words in the above sample text:  [(',', 9), ('Doe', 8), ('.', 7), ('or', 5), ('to', 4)]\n"
          ]
        }
      ]
    },
    {
      "cell_type": "code",
      "source": [
        "import matplotlib.pyplot as plt\n",
        "freqDist.plot(5)"
      ],
      "metadata": {
        "colab": {
          "base_uri": "https://localhost:8080/",
          "height": 480
        },
        "id": "luWXZxnzBB_n",
        "outputId": "55118882-a2f0-486e-b06f-4fff354b90cd"
      },
      "execution_count": 9,
      "outputs": [
        {
          "output_type": "display_data",
          "data": {
            "text/plain": [
              "<Figure size 640x480 with 1 Axes>"
            ],
            "image/png": "[encoded data removed]"
          },
          "metadata": {}
        },
        {
          "output_type": "execute_result",
          "data": {
            "text/plain": [
              "<Axes: xlabel='Samples', ylabel='Counts'>"
            ]
          },
          "metadata": {},
          "execution_count": 9
        }
      ]
    },
    {
      "cell_type": "markdown",
      "source": [
        ">Q6. Demonstrate all possible stemming on the given text: ” The women sitting beside Riya working as a data\n",
        "scientist who is an expert in all sorts of programming”"
      ],
      "metadata": {
        "id": "nG_uXmO_Kdti"
      }
    },
    {
      "cell_type": "code",
      "source": [
        "sample_text2= \"The women sitting beside Riya working as a data scientist who is an expert in all sorts of programming\";\n",
        "print(sample_text2)"
      ],
      "metadata": {
        "colab": {
          "base_uri": "https://localhost:8080/"
        },
        "id": "7vOPi2dEBCFh",
        "outputId": "d43f7d05-b348-403d-8fc5-c786dc2ccc7f"
      },
      "execution_count": 10,
      "outputs": [
        {
          "output_type": "stream",
          "name": "stdout",
          "text": [
            "The women sitting beside Riya working as a data scientist who is an expert in all sorts of programming\n"
          ]
        }
      ]
    },
    {
      "cell_type": "code",
      "source": [
        "from nltk.stem import PorterStemmer, LancasterStemmer, SnowballStemmer\n",
        "\n",
        "porter = PorterStemmer()\n",
        "lancster = LancasterStemmer()\n",
        "snowball = SnowballStemmer('english')\n",
        "\n",
        "words2 = nltk.word_tokenize(sample_text2.lower())\n",
        "print(\"Words of the 2nd sentence are: \", words2, '\\n')\n",
        "\n",
        "for stemmer in(porter, lancster, snowball):\n",
        "  st_txt= [stemmer.stem(w2) for w2 in words2]\n",
        "  print('Stemming by ', stemmer, ' gives output: ', st_txt)"
      ],
      "metadata": {
        "colab": {
          "base_uri": "https://localhost:8080/"
        },
        "id": "cCokDjh8BCLd",
        "outputId": "61f1655a-b9c6-4619-8798-46c658ddf0c9"
      },
      "execution_count": 11,
      "outputs": [
        {
          "output_type": "stream",
          "name": "stdout",
          "text": [
            "Words of the 2nd sentence are:  ['the', 'women', 'sitting', 'beside', 'riya', 'working', 'as', 'a', 'data', 'scientist', 'who', 'is', 'an', 'expert', 'in', 'all', 'sorts', 'of', 'programming'] \n",
            "\n",
            "Stemming by  <PorterStemmer>  gives output:  ['the', 'women', 'sit', 'besid', 'riya', 'work', 'as', 'a', 'data', 'scientist', 'who', 'is', 'an', 'expert', 'in', 'all', 'sort', 'of', 'program']\n",
            "Stemming by  <LancasterStemmer>  gives output:  ['the', 'wom', 'sit', 'besid', 'riy', 'work', 'as', 'a', 'dat', 'sci', 'who', 'is', 'an', 'expert', 'in', 'al', 'sort', 'of', 'program']\n",
            "Stemming by  <nltk.stem.snowball.SnowballStemmer object at 0x79974d269210>  gives output:  ['the', 'women', 'sit', 'besid', 'riya', 'work', 'as', 'a', 'data', 'scientist', 'who', 'is', 'an', 'expert', 'in', 'all', 'sort', 'of', 'program']\n"
          ]
        }
      ]
    },
    {
      "cell_type": "markdown",
      "source": [
        ">Q7. Demonstrate all lemmatization(for ex:noun/verb etc) on the given set of words: [ sitting , working, parties,programming,creative,appointment]"
      ],
      "metadata": {
        "id": "p-qZSkLZMHku"
      }
    },
    {
      "cell_type": "code",
      "source": [
        "from nltk.stem import WordNetLemmatizer\n",
        "\n",
        "lemmatizer= WordNetLemmatizer()\n",
        "print(dir(lemmatizer))"
      ],
      "metadata": {
        "colab": {
          "base_uri": "https://localhost:8080/"
        },
        "id": "anBIfWzHBCRP",
        "outputId": "0ab40e29-331d-4ca5-963b-63211e2ef658"
      },
      "execution_count": 12,
      "outputs": [
        {
          "output_type": "stream",
          "name": "stdout",
          "text": [
            "['__class__', '__delattr__', '__dict__', '__dir__', '__doc__', '__eq__', '__format__', '__ge__', '__getattribute__', '__gt__', '__hash__', '__init__', '__init_subclass__', '__le__', '__lt__', '__module__', '__ne__', '__new__', '__reduce__', '__reduce_ex__', '__repr__', '__setattr__', '__sizeof__', '__str__', '__subclasshook__', '__weakref__', 'lemmatize']\n"
          ]
        }
      ]
    },
    {
      "cell_type": "code",
      "source": [
        "given_words = [\"sitting\", \"working\", \"parties\", \"programming\", \"creative\", \"appointment\"]\n",
        "print(given_words, '\\n')\n",
        "\n",
        "lemmatized_verb= []\n",
        "for w in given_words:\n",
        "  lv= lemmatizer.lemmatize(w, pos='v')\n",
        "  lemmatized_verb.append(lv)\n",
        "print('verb : ',lemmatized_verb)\n",
        "\n",
        "\n",
        "lemmatized_adverb= []\n",
        "for w in given_words:\n",
        "  ladv= lemmatizer.lemmatize(w, pos='r')\n",
        "  lemmatized_adverb.append(ladv)\n",
        "print('adverb : ',lemmatized_adverb)\n",
        "\n",
        "\n",
        "lemmatized_adjective= []\n",
        "for w in given_words:\n",
        "  ladj= lemmatizer.lemmatize(w, pos='a')\n",
        "  lemmatized_adjective.append(ladj)\n",
        "print('adjective : ',lemmatized_adjective)\n",
        "\n",
        "lemmatized_noun= []\n",
        "for w in given_words:\n",
        "  ln= lemmatizer.lemmatize(w, pos='n')\n",
        "  lemmatized_noun.append(ln)\n",
        "print('noun : ',lemmatized_noun)"
      ],
      "metadata": {
        "colab": {
          "base_uri": "https://localhost:8080/"
        },
        "id": "pDPGXR27BC9R",
        "outputId": "88b8335d-48b4-4579-e0d9-7693296b5e64"
      },
      "execution_count": 13,
      "outputs": [
        {
          "output_type": "stream",
          "name": "stdout",
          "text": [
            "['sitting', 'working', 'parties', 'programming', 'creative', 'appointment'] \n",
            "\n",
            "verb :  ['sit', 'work', 'party', 'program', 'creative', 'appointment']\n",
            "adverb :  ['sitting', 'working', 'parties', 'programming', 'creative', 'appointment']\n",
            "adjective :  ['sitting', 'working', 'parties', 'programming', 'creative', 'appointment']\n",
            "noun :  ['sitting', 'working', 'party', 'programming', 'creative', 'appointment']\n"
          ]
        }
      ]
    },
    {
      "cell_type": "markdown",
      "source": [
        ">Q8.Display the correct output for the given text (Auto Correction) ” This samplle is jast anonymous,for analysis”"
      ],
      "metadata": {
        "id": "dxbpD_kfOeb6"
      }
    },
    {
      "cell_type": "code",
      "source": [
        "!pip install pyspellchecker\n",
        "from spellchecker import SpellChecker"
      ],
      "metadata": {
        "colab": {
          "base_uri": "https://localhost:8080/"
        },
        "id": "WAN8Aj6_PBVH",
        "outputId": "32319165-5a6e-4174-b9ed-3dd4438c69dd"
      },
      "execution_count": 14,
      "outputs": [
        {
          "output_type": "stream",
          "name": "stdout",
          "text": [
            "Collecting pyspellchecker\n",
            "  Downloading pyspellchecker-0.7.2-py3-none-any.whl (3.4 MB)\n",
            "\u001b[2K     \u001b[90m━━━━━━━━━━━━━━━━━━━━━━━━━━━━━━━━━━━━━━━━\u001b[0m \u001b[32m3.4/3.4 MB\u001b[0m \u001b[31m12.3 MB/s\u001b[0m eta \u001b[36m0:00:00\u001b[0m\n",
            "\u001b[?25hInstalling collected packages: pyspellchecker\n",
            "Successfully installed pyspellchecker-0.7.2\n"
          ]
        }
      ]
    },
    {
      "cell_type": "code",
      "source": [
        "sample_text3 = \"This samplle is jast anonymous,for analysis\"\n",
        "\n",
        "spell = SpellChecker()\n",
        "words = sample_text3.split(' ')\n",
        "\n",
        "print(\"raw correction \",[spell.correction(w) for w in words])\n",
        "corrected_words = []\n",
        "\n",
        "for word in words:\n",
        "    corrected_word = spell.correction(word)\n",
        "    if corrected_word is None:\n",
        "      corrected_word = word  # Use the original word if correction is not possible\n",
        "    else:\n",
        "      corrected_words.append(corrected_word)\n",
        "\n",
        "corrected_text = ' '.join(corrected_words)\n",
        "\n",
        "print(\"Original Text:\", sample_text)\n",
        "print(\"\\nCorrected Text:\", corrected_text)"
      ],
      "metadata": {
        "colab": {
          "base_uri": "https://localhost:8080/"
        },
        "id": "H5zcFCGjBDDI",
        "outputId": "eecc710c-2719-4faa-8117-ebc308e25184"
      },
      "execution_count": 15,
      "outputs": [
        {
          "output_type": "stream",
          "name": "stdout",
          "text": [
            "raw correction  ['This', 'sample', 'is', 'just', None, 'analysis']\n",
            "Original Text: A child or baby’s identity is unknown may be referred to as Baby Doe. A notorious case in Kavya City,\n",
            "Missouri, referred to the baby victim as Preclly Doe. Other unidentified female’s murder victims are\n",
            "Cali Doe and Princess Doe paid with $ or others. Additional persons may be called James Doe or\n",
            "Juoody Doe, etc. However, to avoid possible confusion, if two anonymous or unknown parties are\n",
            "cited in a specific case or action, the surnames Doe and Roe may be used simultaneously; for\n",
            "example, “from John Doe to Jane Roe\". Other early alternatives such as John Stiles and Richard Miles\n",
            "are now rarely used, and Mary Major has been used in some American federal cases!This sample is\n",
            "just anonymous,for analysis. It’s not a valid context :just an example.\n",
            "\n",
            "Corrected Text: This sample is just analysis\n"
          ]
        }
      ]
    },
    {
      "cell_type": "markdown",
      "source": [
        ">Q9. Display first 10 words from “bible-kjv.txt” from gutenberg corpus."
      ],
      "metadata": {
        "id": "t3kcQHPiTCE2"
      }
    },
    {
      "cell_type": "code",
      "source": [
        "nltk.download('gutenberg')\n",
        "from nltk.corpus import gutenberg\n",
        "\n",
        "fileids= gutenberg.fileids()\n",
        "print(fileids)"
      ],
      "metadata": {
        "colab": {
          "base_uri": "https://localhost:8080/"
        },
        "id": "KJ01m6PVBDIc",
        "outputId": "1eaf5d82-1b9f-4b4a-c19e-10aaab268967"
      },
      "execution_count": 16,
      "outputs": [
        {
          "output_type": "stream",
          "name": "stdout",
          "text": [
            "['austen-emma.txt', 'austen-persuasion.txt', 'austen-sense.txt', 'bible-kjv.txt', 'blake-poems.txt', 'bryant-stories.txt', 'burgess-busterbrown.txt', 'carroll-alice.txt', 'chesterton-ball.txt', 'chesterton-brown.txt', 'chesterton-thursday.txt', 'edgeworth-parents.txt', 'melville-moby_dick.txt', 'milton-paradise.txt', 'shakespeare-caesar.txt', 'shakespeare-hamlet.txt', 'shakespeare-macbeth.txt', 'whitman-leaves.txt']\n"
          ]
        },
        {
          "output_type": "stream",
          "name": "stderr",
          "text": [
            "[nltk_data] Downloading package gutenberg to /root/nltk_data...\n",
            "[nltk_data]   Unzipping corpora/gutenberg.zip.\n"
          ]
        }
      ]
    },
    {
      "cell_type": "code",
      "source": [
        "sample1= gutenberg.raw(\"bible-kjv.txt\")\n",
        "words3= word_tokenize(sample1)\n",
        "for i in range(10):\n",
        "  print(words3[i], end=' , ')"
      ],
      "metadata": {
        "colab": {
          "base_uri": "https://localhost:8080/"
        },
        "id": "Vvx2DG5aBDN0",
        "outputId": "ddc28aa8-caee-4f37-c78f-695016b7051b"
      },
      "execution_count": 17,
      "outputs": [
        {
          "output_type": "stream",
          "name": "stdout",
          "text": [
            "[ , The , King , James , Bible , ] , The , Old , Testament , of , "
          ]
        }
      ]
    },
    {
      "cell_type": "code",
      "source": [
        "text1= nltk.corpus.gutenberg.words(\"bible-kjv.txt\")\n",
        "for w in text1[:10]:\n",
        "  print(w, end=' , ')"
      ],
      "metadata": {
        "colab": {
          "base_uri": "https://localhost:8080/"
        },
        "id": "bwix4T3iBDS3",
        "outputId": "e608d857-2928-4362-9c56-1b0ff15e63e6"
      },
      "execution_count": 18,
      "outputs": [
        {
          "output_type": "stream",
          "name": "stdout",
          "text": [
            "[ , The , King , James , Bible , ] , The , Old , Testament , of , "
          ]
        }
      ]
    },
    {
      "cell_type": "markdown",
      "source": [
        ">Q10. “Hi! Mr.Hary all set? he said,r u having $50000—“ Display all punctuation symbols in the given text"
      ],
      "metadata": {
        "id": "fR6SmhPAWETz"
      }
    },
    {
      "cell_type": "code",
      "source": [
        "sample_text4= \"Hi! Mr.Hary all set? he said,r u having $50000--\"\n",
        "my_punc2=[]\n",
        "for symbol in all_punc:\n",
        "  if(symbol in sample_text4):\n",
        "    my_punc2.append(symbol)\n",
        "print(\"All punctuation symbols in given text are: \",my_punc2)"
      ],
      "metadata": {
        "colab": {
          "base_uri": "https://localhost:8080/"
        },
        "id": "dakRKZ5EBDZa",
        "outputId": "89647517-e282-4f57-e0c0-36ee7f55f78b"
      },
      "execution_count": 19,
      "outputs": [
        {
          "output_type": "stream",
          "name": "stdout",
          "text": [
            "All punctuation symbols in given text are:  ['!', '.', ',', '$', '-', '?']\n"
          ]
        }
      ]
    },
    {
      "cell_type": "markdown",
      "source": [
        ">Q11. Demonstrate the usage of metacharacters in RE."
      ],
      "metadata": {
        "id": "pSCLFfyzXHE_"
      }
    },
    {
      "cell_type": "code",
      "source": [
        "import re\n",
        "\n",
        "st1= \"Q4 question is tough\"\n",
        "pat= '[a-zA-Z]{1}[\\d]{1}'\n",
        "print(re.match(pat, st1)) # finding the Q4\n",
        "print(re.sub(pat, \"forth\", st1))\n",
        "\n",
        "\n",
        "\n",
        "sentence= \"Hi, will u be ready in 4 hr, we will leave at 5.30pm ok??** \"\n",
        "p= re.compile('\\w')\n",
        "print(p.findall(sentence))\n",
        "\n",
        "p1=re.compile('\\w+')\n",
        "print(p1.findall(sentence))\n",
        "\n",
        "p2=re.compile('\\W')\n",
        "print(p2.findall(sentence))\n",
        "print('\\n\\n')\n",
        "\n",
        "\n",
        "text = \"The quick brown fox jumps over the lazy dog.\"\n",
        "pattern = r'\\bq\\w*k\\b'  # \\b is a word boundary, \\w represents word characters\n",
        "matches = re.findall(pattern, text, re.IGNORECASE)  # Case-insensitive search\n",
        "\n",
        "print(\"Original Text:\", text)\n",
        "print(\"Matches:\", matches)"
      ],
      "metadata": {
        "colab": {
          "base_uri": "https://localhost:8080/"
        },
        "id": "lucNo1AxV8Ki",
        "outputId": "3cf4b7a4-16a5-412e-e5c9-debe31582882"
      },
      "execution_count": 25,
      "outputs": [
        {
          "output_type": "stream",
          "name": "stdout",
          "text": [
            "<re.Match object; span=(0, 2), match='Q4'>\n",
            "forth question is tough\n",
            "['H', 'i', 'w', 'i', 'l', 'l', 'u', 'b', 'e', 'r', 'e', 'a', 'd', 'y', 'i', 'n', '4', 'h', 'r', 'w', 'e', 'w', 'i', 'l', 'l', 'l', 'e', 'a', 'v', 'e', 'a', 't', '5', '3', '0', 'p', 'm', 'o', 'k']\n",
            "['Hi', 'will', 'u', 'be', 'ready', 'in', '4', 'hr', 'we', 'will', 'leave', 'at', '5', '30pm', 'ok']\n",
            "[',', ' ', ' ', ' ', ' ', ' ', ' ', ' ', ',', ' ', ' ', ' ', ' ', ' ', '.', ' ', '?', '?', '*', '*', ' ']\n",
            "\n",
            "\n",
            "\n",
            "Original Text: The quick brown fox jumps over the lazy dog.\n",
            "Matches: ['quick']\n"
          ]
        }
      ]
    },
    {
      "cell_type": "code",
      "source": [],
      "metadata": {
        "id": "vzTrGZCGV8TY"
      },
      "execution_count": 20,
      "outputs": []
    },
    {
      "cell_type": "code",
      "source": [],
      "metadata": {
        "id": "3SA16K4QwtuY"
      },
      "execution_count": 20,
      "outputs": []
    }
  ]
}